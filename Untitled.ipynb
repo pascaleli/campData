{
 "cells": [
  {
   "cell_type": "code",
   "execution_count": 2,
   "id": "493c4fd0-501e-47ab-b132-a0e8af91c49f",
   "metadata": {},
   "outputs": [
    {
     "name": "stdout",
     "output_type": "stream",
     "text": [
      "hELLO World\n"
     ]
    }
   ],
   "source": [
    "print(\"hELLO World\")"
   ]
  },
  {
   "cell_type": "code",
   "execution_count": null,
   "id": "898a35a5-37ec-40a9-9fa6-bf67436acac6",
   "metadata": {},
   "outputs": [],
   "source": []
  }
 ],
 "metadata": {
  "kernelspec": {
   "display_name": "Python 3 (ipykernel)",
   "language": "python",
   "name": "python3"
  },
  "language_info": {
   "codemirror_mode": {
    "name": "ipython",
    "version": 3
   },
   "file_extension": ".py",
   "mimetype": "text/x-python",
   "name": "python",
   "nbconvert_exporter": "python",
   "pygments_lexer": "ipython3",
   "version": "3.10.13"
  }
 },
 "nbformat": 4,
 "nbformat_minor": 5
}
